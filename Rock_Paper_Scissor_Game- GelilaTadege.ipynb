{
 "cells": [
  {
   "cell_type": "markdown",
   "id": "55497795",
   "metadata": {},
   "source": [
    "Create a program where the user can play a game of rock, paper, scissors against a computer. Set a play choice (rock, paper, or scissors) for the computer player and during the program, request for the user to input their play choice.\n",
    "\n",
    "The rules in Rock, Paper, Scissors are:\n",
    "\n",
    "Rock beats scissors\n",
    "Scissors beats paper\n",
    "Paper beats rock\n",
    "If the user wins, then display \"You win!\" If they lose against the computer, then display \"You lose.\" If the computer and the user have the same play choice, display \"It's a draw.\"\n",
    "\n",
    "BONUS: Randomize the play choice for the computer (hint: Python has a library called random). Also ask the user if they would like to play again. If they do, start the game again but if not, thank the user for playing the game.\n",
    "\n"
   ]
  },
  {
   "cell_type": "code",
   "execution_count": null,
   "id": "a159133e",
   "metadata": {},
   "outputs": [],
   "source": [
    "import random as rad\n",
    "def compChoice():\n",
    "    computer_choice=rad.choice([\"rock\", \"paper\" , \"scissors\"])\n",
    "         \n",
    "    return computer_choice\n",
    "    "
   ]
  },
  {
   "cell_type": "code",
   "execution_count": 136,
   "id": "87882334",
   "metadata": {},
   "outputs": [],
   "source": [
    "def userChoice():\n",
    "    while True :\n",
    "        user_choice= input(\"Please enter the choice from rock, paper , scissor\\n\")\n",
    "        user_choice = user_choice.lower()\n",
    "        if user_choice in [\"rock\", \"paper\" , \"scissors\"] :\n",
    "                return  user_choice\n",
    "        if user_choice not in  [\"rock\", \"paper\" , \"scissors\"] : \n",
    "                print(\"Invalid Input\")\n",
    "        else :\n",
    "            break    \n",
    "                \n",
    "    return user_choice\n",
    "    \n",
    "    "
   ]
  },
  {
   "cell_type": "code",
   "execution_count": 137,
   "id": "d8d29971",
   "metadata": {},
   "outputs": [],
   "source": [
    "\n",
    "def game() :\n",
    "    #Rock > Scissor\n",
    "    #Scissor > Paper\n",
    "    #Paper > Scissor\n",
    "    while True:\n",
    "        user_choice= userChoice()\n",
    "        computer_choice=compChoice()\n",
    "   \n",
    "        if user_choice== computer_choice or  computer_choice==user_choice:\n",
    "                print(f\"you chose: {user_choice}, and compuer choice were: { computer_choice}\")\n",
    "                print(\"It's a draw.\")\n",
    "                print(\" \")\n",
    "        \n",
    "        elif user_choice==\"rock\" and  computer_choice== \"scissor\" or (user_choice==\"scissor\" and  computer_choice== \"paper\")or(user_choice== \" paper\" and  computer_choice==\"rock\") :\n",
    "                print(f\"you chose: {user_choice}, and compuer choice were: { computer_choice}\")\n",
    "                print(\"You Won!\")\n",
    "                print(\" \")\n",
    "               \n",
    "        else :\n",
    "                print(f\"you chose: {user_choice}, and compuer choice were: { computer_choice}\")\n",
    "                print(\"You Lost!\")\n",
    "                print(\" \")\n",
    "                \n",
    "        \n",
    "        print(\"-\"*10)    \n",
    "        answer= input(\"Do you want to play a game? Yes or no : \")\n",
    "        answer=answer.lower()\n",
    "        if answer == \"yes\" :\n",
    "                pass\n",
    "                print(\" \")\n",
    "        else :\n",
    "            print(\"Thanks for palying.Good Bye!\")\n",
    "            break\n",
    "\n"
   ]
  },
  {
   "cell_type": "code",
   "execution_count": null,
   "id": "774eaf90",
   "metadata": {},
   "outputs": [
    {
     "name": "stdout",
     "output_type": "stream",
     "text": [
      "Please enter the choice from rock, paper , scissor\n",
      "rfgh\n",
      "Invalid Input\n",
      "Please enter the choice from rock, paper , scissor\n",
      "rock\n",
      "you chose: rock, and compuer choice were: paper\n",
      "You Lost!\n",
      " \n",
      "----------\n"
     ]
    }
   ],
   "source": [
    "game()"
   ]
  },
  {
   "cell_type": "code",
   "execution_count": null,
   "id": "6a70cd48",
   "metadata": {},
   "outputs": [],
   "source": []
  }
 ],
 "metadata": {
  "kernelspec": {
   "display_name": "Python 3 (ipykernel)",
   "language": "python",
   "name": "python3"
  },
  "language_info": {
   "codemirror_mode": {
    "name": "ipython",
    "version": 3
   },
   "file_extension": ".py",
   "mimetype": "text/x-python",
   "name": "python",
   "nbconvert_exporter": "python",
   "pygments_lexer": "ipython3",
   "version": "3.9.12"
  }
 },
 "nbformat": 4,
 "nbformat_minor": 5
}
